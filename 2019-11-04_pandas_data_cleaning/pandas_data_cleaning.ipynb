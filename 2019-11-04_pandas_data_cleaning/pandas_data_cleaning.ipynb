{
 "cells": [
  {
   "cell_type": "markdown",
   "metadata": {},
   "source": [
    "# Pandas Data Cleaning"
   ]
  },
  {
   "cell_type": "markdown",
   "metadata": {},
   "source": [
    "In this challenge you will be doing some preprocessing for a dataset for the videogame FIFA19 (https://www.kaggle.com/karangadiya/fifa19).  The dataset contains both data for the game as well as information about the players' real life careers."
   ]
  },
  {
   "cell_type": "markdown",
   "metadata": {},
   "source": [
    "**1) Read the CSV file into a pandas dataframe**\n",
    "\n",
    "The data you'll be working with is found in a file located at`'../data/fifa.csv'`.  Use your knowledge of pandas to create a new dataframe using the csv data. \n",
    "\n",
    "Check the contents of the first few rows of your dataframe, then show the size of the dataframe"
   ]
  },
  {
   "cell_type": "code",
   "execution_count": 50,
   "metadata": {},
   "outputs": [],
   "source": [
    "import pandas as pd\n",
    "import numpy as np\n",
    "import warnings\n",
    "from io import StringIO\n",
    "warnings.filterwarnings('ignore')"
   ]
  },
  {
   "cell_type": "code",
   "execution_count": 51,
   "metadata": {},
   "outputs": [],
   "source": [
    "# code here to read in `fifa.csv` and assign a dataframe to the variable `df`\n",
    "df = pd.read_csv('../data/fifa.csv')"
   ]
  },
  {
   "cell_type": "code",
   "execution_count": 52,
   "metadata": {},
   "outputs": [
    {
     "data": {
      "text/plain": [
       "20000"
      ]
     },
     "execution_count": 52,
     "metadata": {},
     "output_type": "execute_result"
    }
   ],
   "source": [
    "# code here to see the size of the dataframe\n",
    "size =len(df)\n",
    "size"
   ]
  },
  {
   "cell_type": "markdown",
   "metadata": {},
   "source": [
    "**2. Drop n/a rows for \"Release Clause\"**\n",
    "    \n",
    "Drop rows for which \"Release Clause\" is none or not given. This is part of a soccer player's contract dealing with being bought out by another team. After you have dropped them, see how many rows are remaining."
   ]
  },
  {
   "cell_type": "code",
   "execution_count": 53,
   "metadata": {},
   "outputs": [
    {
     "data": {
      "text/plain": [
       "0        False\n",
       "1        False\n",
       "2        False\n",
       "3        False\n",
       "4        False\n",
       "         ...  \n",
       "19995    False\n",
       "19996    False\n",
       "19997    False\n",
       "19998    False\n",
       "19999    False\n",
       "Name: Release Clause, Length: 20000, dtype: bool"
      ]
     },
     "execution_count": 53,
     "metadata": {},
     "output_type": "execute_result"
    }
   ],
   "source": [
    "df['Release Clause'].isna()"
   ]
  },
  {
   "cell_type": "code",
   "execution_count": 54,
   "metadata": {},
   "outputs": [
    {
     "data": {
      "text/plain": [
       "0        226500.0\n",
       "1        127100.0\n",
       "2        228100.0\n",
       "3        138600.0\n",
       "4        196400.0\n",
       "           ...   \n",
       "19995    143000.0\n",
       "19996    113000.0\n",
       "19997    165000.0\n",
       "19998    143000.0\n",
       "19999    165000.0\n",
       "Name: Release Clause, Length: 20000, dtype: float64"
      ]
     },
     "execution_count": 54,
     "metadata": {},
     "output_type": "execute_result"
    }
   ],
   "source": [
    "df['Release Clause']"
   ]
  },
  {
   "cell_type": "code",
   "execution_count": 58,
   "metadata": {},
   "outputs": [
    {
     "data": {
      "text/plain": [
       "(18273, 89)"
      ]
     },
     "execution_count": 58,
     "metadata": {},
     "output_type": "execute_result"
    }
   ],
   "source": [
    "# code here to drop n/a rows\n",
    "df_drop = df[df['Release Clause'] > 0]\n",
    "# df_dropped = df[df['Release Clause'] != None]\n",
    "# new_data = df_dropped.dropna(axis = 0, how ='any') \n",
    "# new_data\n",
    "df_drop.shape"
   ]
  },
  {
   "cell_type": "code",
   "execution_count": 59,
   "metadata": {},
   "outputs": [
    {
     "data": {
      "text/plain": [
       "Unnamed: 0        18273\n",
       "ID                18273\n",
       "Name              18273\n",
       "Age               18273\n",
       "Photo             18273\n",
       "                  ...  \n",
       "GKHandling        18273\n",
       "GKKicking         18273\n",
       "GKPositioning     18273\n",
       "GKReflexes        18273\n",
       "Release Clause    18273\n",
       "Length: 89, dtype: int64"
      ]
     },
     "execution_count": 59,
     "metadata": {},
     "output_type": "execute_result"
    }
   ],
   "source": [
    "# now check how many rows are left \n",
    "df_drop.count()"
   ]
  },
  {
   "cell_type": "markdown",
   "metadata": {},
   "source": [
    "**3) Convert the Release Clause Price from Euros to Dollars**\n",
    "\n",
    "Now that there are no n/a values, we can change the values in the `Release Clause` column from Euro to Dollar amounts.\n",
    "\n",
    "Assume the current Exchange Rate is\n",
    "`1 Euro = 1.2 Dollars`"
   ]
  },
  {
   "cell_type": "code",
   "execution_count": 61,
   "metadata": {},
   "outputs": [],
   "source": [
    " # code here to convert the column of euros to dollarss\n",
    "df_dollars = df_drop['Release Clause'].map(lambda x: x *1.2)"
   ]
  },
  {
   "cell_type": "code",
   "execution_count": null,
   "metadata": {},
   "outputs": [],
   "source": []
  },
  {
   "cell_type": "code",
   "execution_count": null,
   "metadata": {},
   "outputs": [],
   "source": []
  }
 ],
 "metadata": {
  "kernelspec": {
   "display_name": "Python 3",
   "language": "python",
   "name": "python3"
  },
  "language_info": {
   "codemirror_mode": {
    "name": "ipython",
    "version": 3
   },
   "file_extension": ".py",
   "mimetype": "text/x-python",
   "name": "python",
   "nbconvert_exporter": "python",
   "pygments_lexer": "ipython3",
   "version": "3.6.9"
  }
 },
 "nbformat": 4,
 "nbformat_minor": 4
}
