{
 "cells": [
  {
   "cell_type": "markdown",
   "metadata": {},
   "source": [
    "# Exploring Statistical Data"
   ]
  },
  {
   "cell_type": "markdown",
   "metadata": {},
   "source": [
    "In this challenge, we will be using the FIFA19 dataset, `'../data/fifa.csv'`, again.  Read in the csv and create a dataframe."
   ]
  },
  {
   "cell_type": "code",
   "execution_count": 2,
   "metadata": {},
   "outputs": [],
   "source": [
    "import pandas as pd\n",
    "import numpy as np\n",
    "import warnings\n",
    "warnings.filterwarnings('ignore')"
   ]
  },
  {
   "cell_type": "code",
   "execution_count": 4,
   "metadata": {},
   "outputs": [],
   "source": [
    "# code here to read in `fifa.csv` and assign a dataframe to the variable `df`\n",
    "df = pd.read_csv('../data/fifa.csv')"
   ]
  },
  {
   "cell_type": "markdown",
   "metadata": {},
   "source": [
    "**1) What are the mean age and the median age for the players in this dataset?** \n",
    "\n",
    "The column is named 'Age'"
   ]
  },
  {
   "cell_type": "code",
   "execution_count": 20,
   "metadata": {},
   "outputs": [
    {
     "name": "stdout",
     "output_type": "stream",
     "text": [
      "Mean Age is 25.19545\n",
      "Median Age is 25.0\n"
     ]
    },
    {
     "data": {
      "text/plain": [
       "0    21\n",
       "dtype: int64"
      ]
     },
     "execution_count": 20,
     "metadata": {},
     "output_type": "execute_result"
    }
   ],
   "source": [
    "# code here\n",
    "dfmean = df['Age'].mean()\n",
    "dfmedian = df['Age'].median()\n",
    "print('Mean Age is ' + str(dfmean))\n",
    "print('Median Age is ' + str(dfmedian))"
   ]
  },
  {
   "cell_type": "markdown",
   "metadata": {},
   "source": [
    "In your own words, how are the mean and median related to each other and what do these values tell us about the distribution of the players' ages?"
   ]
  },
  {
   "cell_type": "code",
   "execution_count": 21,
   "metadata": {},
   "outputs": [
    {
     "data": {
      "text/plain": [
       "\"\\nThe mean is the 'average', meaning (no pun intended) that you add up all of the values and divide by the number \\nof values. This is generally used as a measure to find the central tendancy of the data, but if there are outliers\\nthen the mean can be skewed high or low. This is different than the median, which is the middle number if you sort \\nall the values in order. \\n\\nSince the mean and median are the same, I would assume that the distribution of the ages would be fairly normal, \\nhowever I'd probably want to look at a histogram before making that claim.\\n\\n\""
      ]
     },
     "execution_count": 21,
     "metadata": {},
     "output_type": "execute_result"
    }
   ],
   "source": [
    "\"\"\"\n",
    "The mean is the 'average', meaning (no pun intended) that you add up all of the values and divide by the number \n",
    "of values. This is generally used as a measure to find the central tendancy of the data, but if there are outliers\n",
    "then the mean can be skewed high or low. This is different than the median, which is the middle number if you sort \n",
    "all the values in order. \n",
    "\n",
    "Since the mean and median are the same, I would assume that the distribution of the ages would be fairly normal, \n",
    "however I'd probably want to look at a histogram before making that claim.\n",
    "\n",
    "\"\"\""
   ]
  },
  {
   "cell_type": "markdown",
   "metadata": {},
   "source": [
    "**2) Who is the oldest player in Argentina and how old is he?**  "
   ]
  },
  {
   "cell_type": "code",
   "execution_count": 37,
   "metadata": {},
   "outputs": [],
   "source": [
    "# making a subset of argentinian players\n",
    "df_arg = df.loc[df['Nationality'] == 'Argentina']"
   ]
  },
  {
   "cell_type": "code",
   "execution_count": 58,
   "metadata": {},
   "outputs": [
    {
     "data": {
      "text/plain": [
       "Unnamed: 0                                                             7225\n",
       "ID                                                                   142998\n",
       "Name                                                               C. Muñoz\n",
       "Age                                                                      41\n",
       "Photo                        https://cdn.sofifa.org/players/4/19/142998.png\n",
       "Nationality                                                       Argentina\n",
       "Flag                                    https://cdn.sofifa.org/flags/52.png\n",
       "Overall                                                                  68\n",
       "Potential                                                                68\n",
       "Club                                           CD Universidad de Concepción\n",
       "Club Logo                   https://cdn.sofifa.org/teams/2/light/112534.png\n",
       "Value                                                                  €60K\n",
       "Wage                                                                    €1K\n",
       "Special                                                                1234\n",
       "Preferred Foot                                                        Right\n",
       "International Reputation                                                  1\n",
       "Weak Foot                                                                 3\n",
       "Skill Moves                                                               1\n",
       "Work Rate                                                    Medium/ Medium\n",
       "Body Type                                                            Normal\n",
       "Real Face                                                                No\n",
       "Position                                                                 GK\n",
       "Jersey Number                                                             1\n",
       "Joined                                                          Jan 1, 2013\n",
       "Loaned From                                                             NaN\n",
       "Contract Valid Until                                                   2018\n",
       "Height                                                                 5'10\n",
       "Weight                                                               161lbs\n",
       "LS                                                                      NaN\n",
       "ST                                                                      NaN\n",
       "                                                 ...                       \n",
       "Dribbling                                                                22\n",
       "Curve                                                                    19\n",
       "FKAccuracy                                                               20\n",
       "LongPassing                                                              34\n",
       "BallControl                                                              31\n",
       "Acceleration                                                             53\n",
       "SprintSpeed                                                              56\n",
       "Agility                                                                  33\n",
       "Reactions                                                                62\n",
       "Balance                                                                  58\n",
       "ShotPower                                                                23\n",
       "Jumping                                                                  73\n",
       "Stamina                                                                  29\n",
       "Strength                                                                 65\n",
       "LongShots                                                                20\n",
       "Aggression                                                               35\n",
       "Interceptions                                                            25\n",
       "Positioning                                                              16\n",
       "Vision                                                                   45\n",
       "Penalties                                                                24\n",
       "Composure                                                                62\n",
       "Marking                                                                  18\n",
       "StandingTackle                                                           14\n",
       "SlidingTackle                                                            19\n",
       "GKDiving                                                                 67\n",
       "GKHandling                                                               65\n",
       "GKKicking                                                                68\n",
       "GKPositioning                                                            71\n",
       "GKReflexes                                                               68\n",
       "Release Clause                                                        84000\n",
       "Name: 7225, Length: 89, dtype: object"
      ]
     },
     "execution_count": 58,
     "metadata": {},
     "output_type": "execute_result"
    }
   ],
   "source": [
    "# sorting age of argentinian player subset by their age\n",
    "oldest = df_arg.sort_values(by=['Age'], ascending = False)\n",
    "# grabbing the first in the list\n",
    "oldest.iloc[0,:]"
   ]
  },
  {
   "cell_type": "markdown",
   "metadata": {},
   "source": [
    "## The oldest player is C. Muñoz and he is 41 years Old"
   ]
  },
  {
   "cell_type": "code",
   "execution_count": null,
   "metadata": {},
   "outputs": [],
   "source": []
  }
 ],
 "metadata": {
  "kernelspec": {
   "display_name": "Python 3",
   "language": "python",
   "name": "python3"
  },
  "language_info": {
   "codemirror_mode": {
    "name": "ipython",
    "version": 3
   },
   "file_extension": ".py",
   "mimetype": "text/x-python",
   "name": "python",
   "nbconvert_exporter": "python",
   "pygments_lexer": "ipython3",
   "version": "3.7.3"
  }
 },
 "nbformat": 4,
 "nbformat_minor": 4
}
