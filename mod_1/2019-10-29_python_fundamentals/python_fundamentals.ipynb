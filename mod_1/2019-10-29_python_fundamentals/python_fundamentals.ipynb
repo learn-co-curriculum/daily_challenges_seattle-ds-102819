{
 "cells": [
  {
   "cell_type": "markdown",
   "metadata": {},
   "source": [
    "# Python Fundamentals"
   ]
  },
  {
   "cell_type": "markdown",
   "metadata": {},
   "source": [
    "In this challenge, we will work with various Python data types and try to accomplish certain tasks using some Python fundamentals. Below, we've defined a dictionary where the keys are soccer player names and values are nested dictionaries containing information about each player's age, nationality, and a list of teams they have played for.  "
   ]
  },
  {
   "cell_type": "code",
   "execution_count": 69,
   "metadata": {},
   "outputs": [
    {
     "data": {
      "text/plain": [
       "['Barcelona']"
      ]
     },
     "execution_count": 69,
     "metadata": {},
     "output_type": "execute_result"
    }
   ],
   "source": [
    "players = {\n",
    "    'L. Messi': {\n",
    "\t\t'age': 31,\n",
    "\t\t'nationality': 'Argentina',\n",
    "\t\t'teams': ['Barcelona']\n",
    "\t},\n",
    "\t'Cristiano Ronaldo': {\n",
    "\t\t'age': 33,\n",
    "\t\t'nationality': 'Portugal',\n",
    "\t\t'teams': ['Juventus', 'Real Madrid', 'Manchester United']\n",
    "\t},\n",
    "\t'Neymar Jr': {\n",
    "\t\t'age': 26,\n",
    "\t\t'nationality': 'Brazil',\n",
    "\t\t'teams': ['Santos', 'Barcelona', 'Paris Saint-German']\n",
    "\t},\n",
    "\t'De Gea': {\n",
    "\t\t'age': 27,\n",
    "\t\t'nationality': 'Spain',\n",
    "\t\t'teams': ['Atletico Madrid', 'Manchester United']\n",
    "\t},\n",
    "\t'K. De Bruyne': {\n",
    "\t\t'age': 27,\n",
    "\t\t'nationality': 'Belgium',\n",
    "\t\t'teams': ['Chelsea', 'Manchester City']\n",
    "\t}\n",
    "}\n",
    "\n",
    "#for i in players:\n",
    "players[\"L. Messi\"][\"teams\"]\n",
    "    "
   ]
  },
  {
   "cell_type": "markdown",
   "metadata": {},
   "source": [
    "**1) Create a `list` of all the keys in the `players` dictionary. Use Python's [documentation on dictionaries](https://docs.python.org/3.7/library/stdtypes.html#dict) for help if needed. Store the list of player names in a variable called `player_names` to use in the next question.**"
   ]
  },
  {
   "cell_type": "code",
   "execution_count": 171,
   "metadata": {},
   "outputs": [],
   "source": [
    "# Get the list of all player names from the dictionary\n",
    "\n",
    "player_names = [name for name in players.keys()]\n",
    "player_names = list(players.keys())"
   ]
  },
  {
   "cell_type": "code",
   "execution_count": 10,
   "metadata": {},
   "outputs": [
    {
     "name": "stdout",
     "output_type": "stream",
     "text": [
      "['L. Messi', 'Cristiano Ronaldo', 'Neymar Jr', 'De Gea', 'K. De Bruyne']\n"
     ]
    }
   ],
   "source": [
    "print(player_names)"
   ]
  },
  {
   "cell_type": "markdown",
   "metadata": {},
   "source": [
    "**2) Great! Now that we have each player's name, let's use that information to create a `list` of `tuples` containing each player's name along with their nationality. Store the list in a variable called `player_nationalities`**"
   ]
  },
  {
   "cell_type": "code",
   "execution_count": 44,
   "metadata": {},
   "outputs": [],
   "source": [
    "# Generate list of tuples such that the first element in the tuple is \n",
    "# a players name and the second is their nationality \n",
    "# Ex: [('L. Messi', 'Argentina'), ('Christiano Ronaldo', 'Portugal'), ...]\n",
    "\n",
    "player_nationalities = None\n",
    "nationalities = []\n",
    "for name in player_names:\n",
    "#     player_dict = {}\n",
    "    player_dict = players[name]\n",
    "    nationalities.append(player_dict[\"nationality\"])\n",
    "player_nationalities = list(zip(player_names,nationalities))    "
   ]
  },
  {
   "cell_type": "code",
   "execution_count": 35,
   "metadata": {},
   "outputs": [
    {
     "data": {
      "text/plain": [
       "'Argentina'"
      ]
     },
     "execution_count": 35,
     "metadata": {},
     "output_type": "execute_result"
    }
   ],
   "source": [
    "d = players[\"L. Messi\"]\n",
    "d[\"nationality\"]"
   ]
  },
  {
   "cell_type": "code",
   "execution_count": 45,
   "metadata": {},
   "outputs": [
    {
     "name": "stdout",
     "output_type": "stream",
     "text": [
      "[('L. Messi', 'Argentina'), ('Cristiano Ronaldo', 'Portugal'), ('Neymar Jr', 'Brazil'), ('De Gea', 'Spain'), ('K. De Bruyne', 'Belgium')]\n"
     ]
    }
   ],
   "source": [
    "print(player_nationalities)"
   ]
  },
  {
   "cell_type": "markdown",
   "metadata": {},
   "source": [
    "**3) Now, define a function called `get_players_on_team` that returns a `list` of the names of all the players who have played on a given team.** \n",
    "\n",
    "Your function should take two arguments: \n",
    "* a `dictionary` of player information\n",
    "* a `string` of the team you are trying to find the players for \n",
    "\n",
    "**Be sure that your function has a `return` statement.**"
   ]
  },
  {
   "cell_type": "code",
   "execution_count": 164,
   "metadata": {},
   "outputs": [],
   "source": [
    "# Define your get_players_on_team function here.\n",
    "def get_players_on_team_hard(dic_of_players, target_team):\n",
    "    \"\"\" this function takes a dictionary of players from varios teams \n",
    "    and returns a list of players who have played on the target team\"\"\" \n",
    "    \n",
    "    list_of_players = [] #create an empty list to be filled with the player's names who match the qualifier\n",
    "    for player in dic_of_players: #iterate through the dic\n",
    "        team_list = [] #create an empty list for each player in the dic,\n",
    "        team_list.append(dic_of_players[player]['teams'])#fill the empty list with the player's teams\n",
    "        for i in team_list: #iterate through the list of the players' teams\n",
    "            for n in i: #iterate through the list of the players' teams\n",
    "                if n == target_team: #test if team is the target team\n",
    "                    list_of_players.append([player])#if team is the target team add the player's name to the list\n",
    "    return (list_of_players) #return a list of the players who have played on the target_team\n",
    "    "
   ]
  },
  {
   "cell_type": "code",
   "execution_count": 155,
   "metadata": {},
   "outputs": [
    {
     "name": "stdout",
     "output_type": "stream",
     "text": [
      "[['Cristiano Ronaldo'], ['De Gea']]\n"
     ]
    }
   ],
   "source": [
    "players_on_manchester_united = get_players_on_team(players,'Manchester United')\n",
    "print(players_on_manchester_united)"
   ]
  },
  {
   "cell_type": "code",
   "execution_count": 170,
   "metadata": {},
   "outputs": [
    {
     "data": {
      "text/plain": [
       "['Santos', 'Barcelona', 'Paris Saint-German']"
      ]
     },
     "execution_count": 170,
     "metadata": {},
     "output_type": "execute_result"
    }
   ],
   "source": [
    "players[\"Neymar Jr\"][\"teams\"]\n"
   ]
  },
  {
   "cell_type": "code",
   "execution_count": 165,
   "metadata": {},
   "outputs": [],
   "source": [
    "def get_players_on_team_simple(dic_of_players, target_team):\n",
    "    list_of_players = []\n",
    "    for player in dic_of_players:\n",
    "        if target_team in dic_of_players[player]['teams']:\n",
    "            list_of_players.append(player)\n",
    "    return(list_of_players)        \n",
    "    "
   ]
  },
  {
   "cell_type": "code",
   "execution_count": 166,
   "metadata": {},
   "outputs": [
    {
     "data": {
      "text/plain": [
       "['Cristiano Ronaldo', 'De Gea']"
      ]
     },
     "execution_count": 166,
     "metadata": {},
     "output_type": "execute_result"
    }
   ],
   "source": [
    "get_players_on_team_simple(players, \"Manchester United\")"
   ]
  },
  {
   "cell_type": "code",
   "execution_count": 168,
   "metadata": {},
   "outputs": [
    {
     "name": "stdout",
     "output_type": "stream",
     "text": [
      "862 ns ± 20.7 ns per loop (mean ± std. dev. of 7 runs, 1000000 loops each)\n"
     ]
    }
   ],
   "source": [
    "%timeit get_players_on_team_simple(players, \"Manchester United\")"
   ]
  },
  {
   "cell_type": "code",
   "execution_count": 169,
   "metadata": {},
   "outputs": [
    {
     "name": "stdout",
     "output_type": "stream",
     "text": [
      "2.3 µs ± 100 ns per loop (mean ± std. dev. of 7 runs, 100000 loops each)\n"
     ]
    }
   ],
   "source": [
    "%timeit get_players_on_team_hard(players, \"Manchester United\")"
   ]
  },
  {
   "cell_type": "code",
   "execution_count": null,
   "metadata": {},
   "outputs": [],
   "source": [
    "def get_players_on_team_items(dic_of_players, target_team):\n",
    "    list_of_players = []\n",
    "    for player, info in dic_of_players.items():\n",
    "        if target_team in info['teams']:\n",
    "            list_of_players.append(player)\n",
    "    return(list_of_players)  "
   ]
  },
  {
   "cell_type": "code",
   "execution_count": 175,
   "metadata": {},
   "outputs": [],
   "source": [
    "player, info = list(players.items())[0]"
   ]
  },
  {
   "cell_type": "code",
   "execution_count": 176,
   "metadata": {},
   "outputs": [
    {
     "data": {
      "text/plain": [
       "'L. Messi'"
      ]
     },
     "execution_count": 176,
     "metadata": {},
     "output_type": "execute_result"
    }
   ],
   "source": [
    "player"
   ]
  },
  {
   "cell_type": "code",
   "execution_count": 177,
   "metadata": {},
   "outputs": [
    {
     "data": {
      "text/plain": [
       "'Argentina'"
      ]
     },
     "execution_count": 177,
     "metadata": {},
     "output_type": "execute_result"
    }
   ],
   "source": [
    "info['nationality']"
   ]
  },
  {
   "cell_type": "code",
   "execution_count": null,
   "metadata": {},
   "outputs": [],
   "source": []
  }
 ],
 "metadata": {
  "kernelspec": {
   "display_name": "Python 3",
   "language": "python",
   "name": "python3"
  },
  "language_info": {
   "codemirror_mode": {
    "name": "ipython",
    "version": 3
   },
   "file_extension": ".py",
   "mimetype": "text/x-python",
   "name": "python",
   "nbconvert_exporter": "python",
   "pygments_lexer": "ipython3",
   "version": "3.7.3"
  }
 },
 "nbformat": 4,
 "nbformat_minor": 4
}
